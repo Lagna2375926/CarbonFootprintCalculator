{
  "nbformat": 4,
  "nbformat_minor": 0,
  "metadata": {
    "colab": {
      "provenance": []
    },
    "kernelspec": {
      "name": "python3",
      "display_name": "Python 3"
    },
    "language_info": {
      "name": "python"
    }
  },
  "cells": [
    {
      "cell_type": "markdown",
      "source": [
        "1. Installing dependencies"
      ],
      "metadata": {
        "id": "IuShPUC8n4CY"
      }
    },
    {
      "cell_type": "code",
      "source": [
        "!pip install streamlit pyngrok scikit-learn xgboost pandas joblib --quiet\n"
      ],
      "metadata": {
        "id": "-F_p-LR6hOWR"
      },
      "execution_count": 14,
      "outputs": []
    },
    {
      "cell_type": "markdown",
      "source": [
        "2. Importing libraries"
      ],
      "metadata": {
        "id": "IslODwJIn9em"
      }
    },
    {
      "cell_type": "code",
      "source": [
        "import pandas as pd\n",
        "import numpy as np\n",
        "import xgboost as xgb\n",
        "import joblib"
      ],
      "metadata": {
        "id": "ksQbxEwBhPt1"
      },
      "execution_count": 15,
      "outputs": []
    },
    {
      "cell_type": "markdown",
      "source": [
        "3. Creating data, preprocessing, training model, and saving feature order"
      ],
      "metadata": {
        "id": "lreRgTIGoDdo"
      }
    },
    {
      "cell_type": "code",
      "source": [
        "# Generate synthetic data\n",
        "np.random.seed(42)\n",
        "data = {\n",
        "    'floor_area': np.random.uniform(50, 5000, 1000),\n",
        "    'num_floors': np.random.randint(1, 20, 1000),\n",
        "    'concrete_volume': np.random.uniform(10, 1000, 1000),\n",
        "    'steel_mass': np.random.uniform(100, 5000, 1000),\n",
        "    'climate_zone': np.random.choice(['Tropical', 'Temperate', 'Continental'], 1000),\n",
        "    'transport_radius': np.random.uniform(10, 500, 1000),\n",
        "    'co2e': np.random.uniform(5000, 500000, 1000)\n",
        "}\n",
        "df = pd.DataFrame(data)\n",
        "df = pd.get_dummies(df, columns=['climate_zone'])\n",
        "\n",
        "# Prepare features and target\n",
        "X = df.drop('co2e', axis=1)\n",
        "y = df['co2e']\n",
        "\n",
        "# Save feature order for prediction\n",
        "feature_order = list(X.columns)\n",
        "joblib.dump(feature_order, 'feature_order.pkl')\n",
        "\n",
        "# Train model\n",
        "model = xgb.XGBRegressor(n_estimators=100)\n",
        "model.fit(X, y)\n",
        "joblib.dump(model, 'carbon_model.pkl')\n"
      ],
      "metadata": {
        "colab": {
          "base_uri": "https://localhost:8080/"
        },
        "id": "UG9VlZ6GhWlw",
        "outputId": "5dc4922e-6c0c-4c10-863a-af83574ba24a"
      },
      "execution_count": 16,
      "outputs": [
        {
          "output_type": "execute_result",
          "data": {
            "text/plain": [
              "['carbon_model.pkl']"
            ]
          },
          "metadata": {},
          "execution_count": 16
        }
      ]
    },
    {
      "cell_type": "markdown",
      "source": [
        "4. Writing the Streamlit app, enforcing feature order"
      ],
      "metadata": {
        "id": "qzCApWmcoNqx"
      }
    },
    {
      "cell_type": "code",
      "source": [
        "app_code = '''\n",
        "import streamlit as st\n",
        "import joblib\n",
        "import pandas as pd\n",
        "\n",
        "model = joblib.load('carbon_model.pkl')\n",
        "feature_order = joblib.load('feature_order.pkl')\n",
        "\n",
        "st.title(\"🏗️ Carbon Footprint Predictor\")\n",
        "with st.form(\"my_form\"):\n",
        "    floor_area = st.number_input(\"Floor Area (m²)\", 50, 5000, 1000)\n",
        "    num_floors = st.number_input(\"Number of Floors\", 1, 50, 5)\n",
        "    concrete = st.number_input(\"Concrete Volume (m³)\", 0.0, 1000.0, 500.0)\n",
        "    steel = st.number_input(\"Steel Mass (kg)\", 0.0, 5000.0, 2000.0)\n",
        "    climate = st.selectbox(\"Climate Zone\", [\"Tropical\", \"Temperate\", \"Continental\"])\n",
        "    transport = st.slider(\"Transport Radius (km)\", 10, 500, 100)\n",
        "\n",
        "    if st.form_submit_button(\"Predict\"):\n",
        "        input_dict = {\n",
        "            'floor_area': floor_area,\n",
        "            'num_floors': num_floors,\n",
        "            'concrete_volume': concrete,\n",
        "            'steel_mass': steel,\n",
        "            'transport_radius': transport,\n",
        "            'climate_zone_Continental': 1 if climate == 'Continental' else 0,\n",
        "            'climate_zone_Temperate': 1 if climate == 'Temperate' else 0,\n",
        "            'climate_zone_Tropical': 1 if climate == 'Tropical' else 0\n",
        "        }\n",
        "        # Build DataFrame and set correct column order\n",
        "        input_data = pd.DataFrame([input_dict])[feature_order]\n",
        "        prediction = model.predict(input_data)[0]\n",
        "        st.metric(\"Predicted CO₂e\", f\"{prediction:,.0f} kg\")\n",
        "'''\n",
        "\n",
        "with open('app.py', 'w') as f:\n",
        "    f.write(app_code)\n"
      ],
      "metadata": {
        "id": "z7outRAChcRF"
      },
      "execution_count": 17,
      "outputs": []
    },
    {
      "cell_type": "markdown",
      "source": [
        "5. Setting the ngrok authtoken and launching the app"
      ],
      "metadata": {
        "id": "Ff9B-FW1oUgp"
      }
    },
    {
      "cell_type": "code",
      "source": [
        "from pyngrok import ngrok, conf\n",
        "\n",
        "# Cleanup previous tunnels\n",
        "ngrok.kill()\n",
        "\n",
        "# Configure to use only 1 tunnel\n",
        "conf.get_default().region = \"us\"  # Optional: set region for consistency\n",
        "\n",
        "# Set your authtoken\n",
        "ngrok.set_auth_token(\"2xxXZQI2TsbfH0gqBIj0DPwGGRM_23rTk4zvziycwrkDjF8Ab\")  # Replace with your token\n",
        "\n",
        "# Start Streamlit and ngrok\n",
        "!streamlit run app.py --server.port 8501 &>/dev/null &\n",
        "public_url = ngrok.connect(\"http://localhost:8501\", bind_tls=True)  # Single HTTPS tunnel\n",
        "print(\"App URL:\", public_url.public_url)\n"
      ],
      "metadata": {
        "colab": {
          "base_uri": "https://localhost:8080/"
        },
        "id": "koWJqd5LipMJ",
        "outputId": "6b54fc4e-0743-4172-8522-3d852d20a8f6"
      },
      "execution_count": 25,
      "outputs": [
        {
          "output_type": "stream",
          "name": "stdout",
          "text": [
            "App URL: https://6966-34-53-119-26.ngrok-free.app\n"
          ]
        }
      ]
    }
  ]
}